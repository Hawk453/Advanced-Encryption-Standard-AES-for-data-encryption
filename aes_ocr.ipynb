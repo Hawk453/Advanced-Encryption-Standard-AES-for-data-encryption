{
  "nbformat": 4,
  "nbformat_minor": 0,
  "metadata": {
    "colab": {
      "name": "aes_ocr.ipynb",
      "provenance": [],
      "authorship_tag": "ABX9TyOAvX5oc1NbHrmFYXiCi60Y"
    },
    "kernelspec": {
      "name": "python3",
      "display_name": "Python 3"
    }
  },
  "cells": [
    {
      "cell_type": "code",
      "metadata": {
        "id": "M8DU19kmd4bM"
      },
      "source": [
        "!pip install pycryptodome\r\n",
        "!pip install argon2_cffi\r\n",
        "!pip install python-secrets\r\n",
        "!apt-get install poppler-utils \r\n",
        "%pip install pdf2image\r\n",
        "!pip install opencv-python\r\n",
        "!sudo apt install tesseract-ocr\r\n",
        "!pip install pytesseract"
      ],
      "execution_count": null,
      "outputs": []
    },
    {
      "cell_type": "code",
      "metadata": {
        "id": "MP2aL2BekVQz"
      },
      "source": [
        "from Crypto.Cipher import AES\r\n",
        "from Crypto.Util import Counter\r\n",
        "from Crypto import Random\r\n",
        "import binascii\r\n",
        "import argon2\r\n",
        "import secrets\r\n",
        "import os\r\n",
        "import cv2\r\n",
        "import pytesseract\r\n",
        "from pdf2image import convert_from_path,convert_from_bytes\r\n",
        "\r\n",
        "# AES supports multiple key sizes: 16 (AES128), 24 (AES192), or 32 (AES256).\r\n",
        "key_bytes = 32"
      ],
      "execution_count": 2,
      "outputs": []
    },
    {
      "cell_type": "code",
      "metadata": {
        "id": "AcZvB7e_kpb1"
      },
      "source": [
        "# Takes as input a 32-byte key and an arbitrary-length plaintext and returns a\r\n",
        "# pair (iv, ciphtertext). \"iv\" stands for initialization vector.\r\n",
        "def encrypt(key, plaintext):\r\n",
        "    assert len(key) == key_bytes\r\n",
        "\r\n",
        "    # Choose a random, 16-byte IV.\r\n",
        "    iv = Random.new().read(AES.block_size)\r\n",
        "\r\n",
        "    # Convert the IV to a Python integer.\r\n",
        "    iv_int = int(binascii.hexlify(iv), 16) \r\n",
        "\r\n",
        "    # Create a new Counter object with IV = iv_int.\r\n",
        "    ctr = Counter.new(AES.block_size * 8, initial_value=iv_int)\r\n",
        "\r\n",
        "    # Create AES-CTR cipher.\r\n",
        "    aes = AES.new(key, AES.MODE_CTR, counter=ctr)\r\n",
        "\r\n",
        "    # Encrypt and return IV and ciphertext.\r\n",
        "    ciphertext = aes.encrypt(plaintext)\r\n",
        "    return (iv, ciphertext)"
      ],
      "execution_count": 3,
      "outputs": []
    },
    {
      "cell_type": "code",
      "metadata": {
        "id": "_Rhu8BOFkuSv"
      },
      "source": [
        "# Takes as input a 32-byte key, a 16-byte IV, and a ciphertext, and outputs the\r\n",
        "# corresponding plaintext.\r\n",
        "def decrypt(key, iv, ciphertext):\r\n",
        "    assert len(key) == key_bytes\r\n",
        "\r\n",
        "    # Initialize counter for decryption. iv should be the same as the output of\r\n",
        "    # encrypt().\r\n",
        "    #iv_int = int(iv.encode('hex'), 16) \r\n",
        "    iv_int = int(binascii.hexlify(iv), 16) \r\n",
        "    ctr = Counter.new(AES.block_size * 8, initial_value=iv_int)\r\n",
        "\r\n",
        "    # Create AES-CTR cipher.\r\n",
        "    aes = AES.new(key, AES.MODE_CTR, counter=ctr)\r\n",
        "\r\n",
        "    # Decrypt and return the plaintext.\r\n",
        "    plaintext = aes.decrypt(ciphertext)\r\n",
        "    return plaintext"
      ],
      "execution_count": 4,
      "outputs": []
    },
    {
      "cell_type": "code",
      "metadata": {
        "id": "jW2PqV_ykw_H"
      },
      "source": [
        "def salt_generator():\r\n",
        "    #generating salt for better entropy\r\n",
        "    #industry recommended standard is to use CSPRNG (Cryptographically Secure Pseudo-Random Number Generator) to produce a salt.\r\n",
        "\r\n",
        "    return secrets.token_bytes(32)"
      ],
      "execution_count": 5,
      "outputs": []
    },
    {
      "cell_type": "code",
      "metadata": {
        "id": "1Jvr_BrwpJWp"
      },
      "source": [
        "def validation(password):\r\n",
        "    #block to generate hash to validate whether the password is correct or not \r\n",
        "\r\n",
        "    argon2Hasher = argon2.PasswordHasher(time_cost=16, memory_cost=2**15, parallelism=2, hash_len=32, salt_len=16)\r\n",
        "    hash = argon2Hasher.hash(password)\r\n",
        "\r\n",
        "    return  hash"
      ],
      "execution_count": 6,
      "outputs": []
    },
    {
      "cell_type": "code",
      "metadata": {
        "id": "s5SBmqEMpMpj"
      },
      "source": [
        "def check_password(hash, password):\r\n",
        "    #to check whether entered subject(password) by the user is correct or not\r\n",
        "    argon2Hasher = argon2.PasswordHasher(time_cost=16, memory_cost=2**15, parallelism=2, hash_len=32, salt_len=16)\r\n",
        "       \r\n",
        "    try:\r\n",
        "        return argon2Hasher.verify(hash, password)\r\n",
        "         \r\n",
        "    except:\r\n",
        "        return False"
      ],
      "execution_count": 8,
      "outputs": []
    },
    {
      "cell_type": "code",
      "metadata": {
        "id": "1gOltqycpz2R"
      },
      "source": [
        "def key_generator_argon2(password, salt):\r\n",
        "    #argon2 is industry specified hashing algorithm. Winner of Password Hashing Competition\r\n",
        "\r\n",
        "    password = password.encode('utf-8')\r\n",
        "\r\n",
        "    hash = argon2.hash_password_raw(time_cost=16, memory_cost=2**15, parallelism=2, hash_len=32,\r\n",
        "    password=password, salt=salt, type=argon2.low_level.Type.ID)\r\n",
        "\r\n",
        "    return hash\r\n"
      ],
      "execution_count": 9,
      "outputs": []
    },
    {
      "cell_type": "code",
      "metadata": {
        "id": "Kyy_o7Lqrl3P"
      },
      "source": [
        "def encryption(pdf, password):\r\n",
        "\r\n",
        "    text = pdf[0]\r\n",
        "    text_to_encrypt = text.encode('utf-8')\r\n",
        "\r\n",
        "    salt = salt_generator()\r\n",
        "    key = key_generator_argon2(password, salt)\r\n",
        "\r\n",
        "    hashed_password = validation(password)\r\n",
        "\r\n",
        "    (iv, ciphertext) = encrypt(key, text_to_encrypt)\r\n",
        "\r\n",
        "    return salt, iv, hashed_password, ciphertext"
      ],
      "execution_count": 24,
      "outputs": []
    },
    {
      "cell_type": "code",
      "metadata": {
        "id": "ouhDiq9jr4ma"
      },
      "source": [
        "def decryption(salt, iv, ciphertext, password):\r\n",
        "\r\n",
        "    key = key_generator_argon2(password, salt)\r\n",
        "\r\n",
        "    decrypted_data = decrypt(key, iv, ciphertext)\r\n",
        "\r\n",
        "    return decrypted_data"
      ],
      "execution_count": 10,
      "outputs": []
    },
    {
      "cell_type": "code",
      "metadata": {
        "id": "ZRe12uGUyU7F"
      },
      "source": [
        "def image_processing(img):\r\n",
        "    # get grayscale image\r\n",
        "    img1 =  cv2.cvtColor(img, cv2.COLOR_BGR2GRAY)\r\n",
        "    # noise removal\r\n",
        "    img2 = cv2.medianBlur(img1,5)\r\n",
        "    #thresholding\r\n",
        "    #return cv2.threshold(img2, 0, 255, cv2.THRESH_BINARY + cv2.THRESH_OTSU)[1]\r\n",
        "    return cv2.adaptiveThreshold(img2, 255,cv2.ADAPTIVE_THRESH_GAUSSIAN_C, cv2.THRESH_BINARY,11,2)\r\n",
        "\r\n",
        "def ocr_to_text(img):\r\n",
        "    custom_config = r'--oem 1 --psm 6'\r\n",
        "    return pytesseract.image_to_string(img, config=custom_config)\r\n",
        "\r\n",
        "def text_generation(x_data):\r\n",
        "  text = []\r\n",
        "  for x in x_data:\r\n",
        "      a = image_processing(x)\r\n",
        "      b = ocr_to_text(a)\r\n",
        "      text.append(b)\r\n",
        "  return text\r\n",
        "\r\n",
        "def pdf_to_images(pdfs):\r\n",
        "      \r\n",
        "      pages = convert_from_path(pdfs, 500)\r\n",
        "      #pages = convert_from_bytes(pdfs.read(), 500)\r\n",
        "      x_data = []\r\n",
        "      i = 1\r\n",
        "      for page in pages:\r\n",
        "          image_name = \"Page_\" + str(i) + \".jpg\"\r\n",
        "          page.save(image_name, \"JPEG\")\r\n",
        "          image = cv2.imread(image_name)\r\n",
        "          x_data.append(image)\r\n",
        "          i = i+1\r\n",
        "      text = []\r\n",
        "      text = text_generation(x_data)\r\n",
        "      i=1\r\n",
        "      for page in pages:\r\n",
        "          os.remove(\"Page_\" + str(i) + \".jpg\")\r\n",
        "          i = i+1\r\n",
        "      return text\r\n",
        "\r\n",
        "def _main_(download_pdf):\r\n",
        "    text = []\r\n",
        "    pdfs = download_pdf\r\n",
        "    text = pdf_to_images(pdfs)\r\n",
        "    return text"
      ],
      "execution_count": 18,
      "outputs": []
    },
    {
      "cell_type": "code",
      "metadata": {
        "id": "hNa5i10i2Nq4"
      },
      "source": [
        "text = _main_(\"to_present.pdf\")\r\n",
        "print(text)"
      ],
      "execution_count": null,
      "outputs": []
    },
    {
      "cell_type": "code",
      "metadata": {
        "id": "20O9h1yo3q-u"
      },
      "source": [
        "password = \"mynameisapples\"\r\n",
        "\r\n",
        "\r\n",
        "\r\n",
        "(salt, iv, hashed_password, ciphertext) = encryption(text, password)\r\n",
        "\r\n",
        "print(salt)\r\n",
        "print(iv)\r\n",
        "print(hashed_password)\r\n",
        "print(ciphertext)\r\n",
        "\r\n",
        "decrypted_data = decryption(salt, iv, ciphertext, password)\r\n",
        "\r\n",
        "print(decrypted_data)\r\n"
      ],
      "execution_count": null,
      "outputs": []
    }
  ]
}