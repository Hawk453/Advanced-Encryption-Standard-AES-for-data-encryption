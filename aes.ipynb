{
  "nbformat": 4,
  "nbformat_minor": 0,
  "metadata": {
    "colab": {
      "name": "aes.ipynb",
      "provenance": [],
      "authorship_tag": "ABX9TyMZ+/iG9CWFmcvbmghUL1Fz"
    },
    "kernelspec": {
      "name": "python3",
      "display_name": "Python 3"
    }
  },
  "cells": [
    {
      "cell_type": "code",
      "metadata": {
        "id": "M8DU19kmd4bM"
      },
      "source": [
        "!pip install pycryptodome\r\n",
        "!pip install argon2_cffi\r\n",
        "!pip install python-secrets"
      ],
      "execution_count": null,
      "outputs": []
    },
    {
      "cell_type": "code",
      "metadata": {
        "id": "MP2aL2BekVQz"
      },
      "source": [
        "from Crypto.Cipher import AES\r\n",
        "from Crypto.Util import Counter\r\n",
        "from Crypto import Random\r\n",
        "import binascii\r\n",
        "import argon2\r\n",
        "import secrets\r\n",
        "import os\r\n",
        "\r\n",
        "# AES supports multiple key sizes: 16 (AES128), 24 (AES192), or 32 (AES256).\r\n",
        "key_bytes = 32"
      ],
      "execution_count": 16,
      "outputs": []
    },
    {
      "cell_type": "code",
      "metadata": {
        "id": "AcZvB7e_kpb1"
      },
      "source": [
        "# Takes as input a 32-byte key and an arbitrary-length plaintext and returns a\r\n",
        "# pair (iv, ciphtertext). \"iv\" stands for initialization vector.\r\n",
        "def encrypt(key, plaintext):\r\n",
        "    assert len(key) == key_bytes\r\n",
        "\r\n",
        "    # Choose a random, 16-byte IV.\r\n",
        "    iv = Random.new().read(AES.block_size)\r\n",
        "\r\n",
        "    # Convert the IV to a Python integer.\r\n",
        "    iv_int = int(binascii.hexlify(iv), 16) \r\n",
        "\r\n",
        "    # Create a new Counter object with IV = iv_int.\r\n",
        "    ctr = Counter.new(AES.block_size * 8, initial_value=iv_int)\r\n",
        "\r\n",
        "    # Create AES-CTR cipher.\r\n",
        "    aes = AES.new(key, AES.MODE_CTR, counter=ctr)\r\n",
        "\r\n",
        "    # Encrypt and return IV and ciphertext.\r\n",
        "    ciphertext = aes.encrypt(plaintext)\r\n",
        "    return (iv, ciphertext)"
      ],
      "execution_count": 3,
      "outputs": []
    },
    {
      "cell_type": "code",
      "metadata": {
        "id": "_Rhu8BOFkuSv"
      },
      "source": [
        "# Takes as input a 32-byte key, a 16-byte IV, and a ciphertext, and outputs the\r\n",
        "# corresponding plaintext.\r\n",
        "def decrypt(key, iv, ciphertext):\r\n",
        "    assert len(key) == key_bytes\r\n",
        "\r\n",
        "    # Initialize counter for decryption. iv should be the same as the output of\r\n",
        "    # encrypt().\r\n",
        "    #iv_int = int(iv.encode('hex'), 16) \r\n",
        "    iv_int = int(binascii.hexlify(iv), 16) \r\n",
        "    ctr = Counter.new(AES.block_size * 8, initial_value=iv_int)\r\n",
        "\r\n",
        "    # Create AES-CTR cipher.\r\n",
        "    aes = AES.new(key, AES.MODE_CTR, counter=ctr)\r\n",
        "\r\n",
        "    # Decrypt and return the plaintext.\r\n",
        "    plaintext = aes.decrypt(ciphertext)\r\n",
        "    return plaintext"
      ],
      "execution_count": 4,
      "outputs": []
    },
    {
      "cell_type": "code",
      "metadata": {
        "id": "jW2PqV_ykw_H"
      },
      "source": [
        "def salt_generator():\r\n",
        "    #generating salt for better entropy\r\n",
        "    #industry recommended standard is to use CSPRNG (Cryptographically Secure Pseudo-Random Number Generator) to produce a salt.\r\n",
        "\r\n",
        "    return secrets.token_bytes(32)"
      ],
      "execution_count": 5,
      "outputs": []
    },
    {
      "cell_type": "code",
      "metadata": {
        "id": "1Jvr_BrwpJWp"
      },
      "source": [
        "def validation(password):\r\n",
        "    #block to generate hash to validate whether the password is correct or not \r\n",
        "\r\n",
        "    argon2Hasher = argon2.PasswordHasher(time_cost=16, memory_cost=2**15, parallelism=2, hash_len=32, salt_len=16)\r\n",
        "    hash = argon2Hasher.hash(password)\r\n",
        "\r\n",
        "    return  hash"
      ],
      "execution_count": 6,
      "outputs": []
    },
    {
      "cell_type": "code",
      "metadata": {
        "id": "s5SBmqEMpMpj"
      },
      "source": [
        "def check_password(hash, password):\r\n",
        "    #to check whether entered subject(password) by the user is correct or not\r\n",
        "    argon2Hasher = argon2.PasswordHasher(time_cost=16, memory_cost=2**15, parallelism=2, hash_len=32, salt_len=16)\r\n",
        "       \r\n",
        "    try:\r\n",
        "        return argon2Hasher.verify(hash, password)\r\n",
        "         \r\n",
        "    except:\r\n",
        "        return False"
      ],
      "execution_count": 10,
      "outputs": []
    },
    {
      "cell_type": "code",
      "metadata": {
        "id": "1gOltqycpz2R"
      },
      "source": [
        "def key_generator_argon2(password, salt):\r\n",
        "    #argon2 is industry specified hashing algorithm. Winner of Password Hashing Competition\r\n",
        "\r\n",
        "    password = password.encode('utf-8')\r\n",
        "\r\n",
        "    hash = argon2.hash_password_raw(time_cost=16, memory_cost=2**15, parallelism=2, hash_len=32,\r\n",
        "    password=password, salt=salt, type=argon2.low_level.Type.ID)\r\n",
        "\r\n",
        "    return hash\r\n"
      ],
      "execution_count": 9,
      "outputs": []
    },
    {
      "cell_type": "code",
      "metadata": {
        "id": "lqs850gKp7DY"
      },
      "source": [
        "def read_file(doc):\r\n",
        "\r\n",
        "    a = doc.read()\r\n",
        "\r\n",
        "    name = doc.name\r\n",
        "    doc.close()\r\n",
        "    if os.path.exists(name):\r\n",
        "       os.remove(name)\r\n",
        "\r\n",
        "    return a"
      ],
      "execution_count": 12,
      "outputs": []
    },
    {
      "cell_type": "code",
      "metadata": {
        "id": "Kyy_o7Lqrl3P"
      },
      "source": [
        "def encryption(document, password):\r\n",
        "\r\n",
        "    text_to_encrypt = read_file(document)\r\n",
        "    text_to_encrypt = text_to_encrypt.encode('utf-8')\r\n",
        "    salt = salt_generator()\r\n",
        "    key = key_generator_argon2(password, salt)\r\n",
        "\r\n",
        "    hashed_password = validation(password)\r\n",
        "\r\n",
        "    (iv, ciphertext) = encrypt(key, text_to_encrypt)\r\n",
        "\r\n",
        "    return salt, iv, hashed_password, ciphertext"
      ],
      "execution_count": 13,
      "outputs": []
    },
    {
      "cell_type": "code",
      "metadata": {
        "id": "ouhDiq9jr4ma"
      },
      "source": [
        "def decryption(salt, iv, ciphertext, password):\r\n",
        "\r\n",
        "    key = key_generator_argon2(password, salt)\r\n",
        "\r\n",
        "    decrypted_data = decrypt(key, iv, ciphertext)\r\n",
        "\r\n",
        "    return decrypted_data"
      ],
      "execution_count": 14,
      "outputs": []
    },
    {
      "cell_type": "code",
      "metadata": {
        "colab": {
          "base_uri": "https://localhost:8080/"
        },
        "id": "5alnEYgf12pF",
        "outputId": "3bd41b3d-e00c-4c3c-fc23-cbbe3792d486"
      },
      "source": [
        "password = \"mynameisapples\"\r\n",
        "\r\n",
        "doc = open(\"enc.txt\",\"r\")\r\n",
        "\r\n",
        "(salt, iv, hashed_password, ciphertext) = encryption(doc, password)\r\n",
        "\r\n",
        "print(salt)\r\n",
        "print(iv)\r\n",
        "print(hashed_password)\r\n",
        "print(ciphertext)\r\n",
        "\r\n",
        "decrypted_data = decryption(salt, iv, ciphertext, password)\r\n",
        "\r\n",
        "print(decrypted_data)"
      ],
      "execution_count": 18,
      "outputs": [
        {
          "output_type": "stream",
          "text": [
            "b'\\x13\\xc9\\x8du\\xc9\\x02\\x1e{\\xc7\\x13\\xc4\\xd9\\x1cz\\x94n\\xd7\\x80\\x07\\xe2O]>\\x98\\xbb\\x82(N%Fc\\xb6'\n",
            "b'\\xbb*\\x99\\xc1\\xc4#\\xa4\\xc3@\\xbf\\xbe\\x99H\\x14\\xd6\\x18'\n",
            "$argon2id$v=19$m=32768,t=16,p=2$4SefMNR/983SiSJ/Nbbcwg$auf8S/1cHeBo7j0vOtEJuSo4ZJ4L5UdM9swIgWBoaZ4\n",
            "b'\\xb6\\x02!6J\\xc4\\xd5\\x06D\\xf79\\xf9\\x99\\xa7\\x976=\\xda\\xb7\\xa3\\xac\\x02-\\x12l\\x9f\\xd6\\xefW\"\\xa6\\x16\\xaa@\\xdfm\\x1dON\\x85\\t\\xaa7\\x94\\xfb\\xb6k\\x95?'\n",
            "b'Hello this is a document which will be encrypted.'\n"
          ],
          "name": "stdout"
        }
      ]
    }
  ]
}